{
  "nbformat": 4,
  "nbformat_minor": 0,
  "metadata": {
    "colab": {
      "provenance": []
    },
    "kernelspec": {
      "name": "python3",
      "display_name": "Python 3"
    },
    "language_info": {
      "name": "python"
    }
  },
  "cells": [
    {
      "cell_type": "markdown",
      "source": [
        "# **Python Basic**"
      ],
      "metadata": {
        "id": "_sEBYWXT8-Dw"
      }
    },
    {
      "cell_type": "markdown",
      "source": [
        "1. What is Python, and why is it popular ?\n",
        "\n",
        "     Ans:- Python is a versatile, interpreted, object-oriented programming language with dynamic semantics. It emphasizes code readability and a clear, English-like syntax, making it easier to learn and use compared to many other languages. Python supports multiple programming paradigms, including procedural, object-oriented, and functional approaches. It is popular due to its ease of learning, extensive libraries, and broad applications in web development, data science, machine learning, and more.\n"
      ],
      "metadata": {
        "id": "uAdMiit_9w13"
      }
    },
    {
      "cell_type": "markdown",
      "source": [
        "2. What is an interpreter in Python ?\n",
        "\n",
        "   Ans:-In Python, an interpreter is a program that executes Python code directly, without needing to compile it into machine code first. It reads the source code, translates it line by line into bytecode, and then executes that bytecode using the Python Virtual Machine (PVM). This means Python is an interpreted language, unlike languages like C or Java that are typically compiled."
      ],
      "metadata": {
        "id": "xjkkktRb-kMs"
      }
    },
    {
      "cell_type": "markdown",
      "source": [
        "3. What are pre-defined keywords in Python ?\n",
        "\n",
        "   Ans:- Predefined keywords in Python are reserved words that have special meanings and functionalities within the language. They are integral to the syntax and structure of Python and cannot be used as identifiers (e.g., variable names, function names, class names).\n",
        "\n"
      ],
      "metadata": {
        "id": "HhS0ufiU_YYs"
      }
    },
    {
      "cell_type": "markdown",
      "source": [
        "4.  Can keywords be used as variable names ?\n",
        "\n",
        "    Ans:- No, keywords cannot be used as variable names. Keywords are reserved words in a programming language that have predefined meanings and are used to define the language's syntax and structure. Using them as variable names would cause syntax errors and ambiguity."
      ],
      "metadata": {
        "id": "m-888kFpALl9"
      }
    },
    {
      "cell_type": "markdown",
      "source": [
        "5. What is mutability in Python ?\n",
        "\n",
        "   Ans:- Mutability in Python refers to the ability of an object to be modified after it has been created. If an object is mutable, its internal state or value can be changed without creating a new object in memory. Conversely, if an object is immutable, its state or value cannot be changed after its creation; any operation that appears to modify an immutable object actually results in the creation of a new object."
      ],
      "metadata": {
        "id": "1NMr5JJAAq_O"
      }
    },
    {
      "cell_type": "markdown",
      "source": [
        "6. Why are lists mutable, but tuples are immutable ?\n",
        "\n",
        "   Ans:- Tuple and list data structures are very similar, but one big difference between the data types is that lists are mutable, whereas tuples are immutable. The reason for the tuple's immutability is that once the elements are added to the tuple and the tuple has been created; it remains unchanged."
      ],
      "metadata": {
        "id": "ldhZ6bh1CVoN"
      }
    },
    {
      "cell_type": "markdown",
      "source": [
        "7. What is the difference between “==” and “is” operators in Python ?\n",
        "  \n",
        "   Ans:- In Python, the == and is operators are used for comparison, but they serve distinct purposes:\n",
        "   > == (Equality Operator): This operator compares the values of two objects. It checks if the content or data held by the objects are the same. For example, if you have two strings with the same sequence of characters, == will return True, even if they are stored at different memory locations.\n",
        "    a = [1, 2, 3]\n",
        "    b = [1, 2, 3]\n",
        "    print(a == b) # Output: True (values are equal)\n",
        "    \n",
        "   > is (Identity Operator): This operator compares the identity of two objects. It checks if two variables refer to the exact same object in memory. This means they must point to the same memory address.\n",
        "\n",
        "    a = [1, 2, 3]\n",
        "    b = [1, 2, 3]\n",
        "    print(a is b) # Output: False (different objects in memory, even if values are the same)\n",
        "\n",
        "    c = a\n",
        "    print(a is c) # Output: True (c now refers to the same object as a)"
      ],
      "metadata": {
        "id": "kysmasdhChbm"
      }
    },
    {
      "cell_type": "markdown",
      "source": [
        "8. What are logical operators in Python ?\n",
        "\n",
        "   Ans:- Python logical operators are used to combine conditional statements, allowing you to perform operations based on multiple conditions. These Python operators, alongside arithmetic operators, are special symbols used to carry out computations on values and variables. In this article, we will discuss logical operators in Python definition and also look at some Python logical operators programs, to completely grasp the concept.\n",
        "    \n",
        "  Logical operators are used on conditional statements (either True or False). They perform Logical AND, Logical OR, and Logical NOT operations.\n"
      ],
      "metadata": {
        "id": "UitLKHUwDz-A"
      }
    },
    {
      "cell_type": "markdown",
      "source": [
        "9. What is type casting in Python ?\n",
        "\n",
        "   Ans:- Type Casting is the method to convert the Python variable datatype into a certain data type in order to perform the required operation by users. In this article, we will see the various techniques for typecasting. There can be two types of Type Casting in Python:\n",
        "\n",
        "   Python Implicit Type Conversion\n",
        "\n",
        "   Python Explicit Type Conversion\n"
      ],
      "metadata": {
        "id": "aXptRPqNEwFU"
      }
    },
    {
      "cell_type": "markdown",
      "source": [
        "10. What is the difference between implicit and explicit type casting ?\n",
        "\n",
        "   Ans:- Implicit and explicit type casting (or conversion) both change a variable's data type, but they differ in how they are initiated. Implicit casting is done automatically by the compiler when it's safe and convenient, while explicit casting requires the programmer to specify the conversion using a cast operator."
      ],
      "metadata": {
        "id": "jzd3EiSrFm5c"
      }
    },
    {
      "cell_type": "markdown",
      "source": [
        "11. What is the purpose of conditional statements in Python  ?\n",
        "    \n",
        "   Ans:- Conditional statements in Python are used to execute certain blocks of code based on specific conditions. These statements help control the flow of a program, making it behave differently in different situations.\n",
        "   The purpose of conditional statements in Python is to control the flow of execution in a program based on whether certain conditions are met. They enable programs to make decisions and execute different blocks of code depending on the outcome of evaluating an expression as True or False."
      ],
      "metadata": {
        "id": "b-SS67bbGRMp"
      }
    },
    {
      "cell_type": "markdown",
      "source": [
        "12. How does the elif statement work ?\n",
        "\n",
        "  Ans:- In Python, elif is short for \"else if\" and is used when the first if statement isn't true, but you want to check for another condition. Meaning, if statements pair up with elif and else statements to perform a series of checks."
      ],
      "metadata": {
        "id": "DeMIlgRWGx5i"
      }
    },
    {
      "cell_type": "markdown",
      "source": [
        "13. What is the difference between for and while loops  ?\n",
        "\n",
        "  Ans:- Both for loops and while loops are control flow structures in programming that allow you to repeatedly execute a block of code. However, they differ in their syntax and use cases. It is important for a beginner to know the key differences between both of them\n",
        "\n",
        "  "
      ],
      "metadata": {
        "id": "vaQ9rqsKHNov"
      }
    },
    {
      "cell_type": "markdown",
      "source": [
        "14. Describe a scenario where a while loop is more suitable than a for loop.\n",
        "\n",
        "  Ans:- When considering whether to use a \"While Loop\" or a \"For Loop,\" it's important to look at the nature of the task at hand. Each type of loop has situations where it is best applied:\n",
        "\n",
        "   While Loop:\n",
        "\n",
        " This is ideal when you want the loop to continue executing as long as a certain condition is true. The exact number of iterations isn't known beforehand. It checks the condition before each iteration, making it suitable for scenarios where you're waiting for a particular state or condition to be fulfilled.\n",
        "\n",
        "  For Loop:\n",
        "\n",
        "  This loop is used when you know ahead of time how many times you want to run the loop. It is great for iterating over a specific range, a fixed number of times, or over a collection of elements (like items in a list).\n",
        "\n",
        "   Scenario for \"While Loop\":\n",
        "\n",
        "  Imagine a situation where you are reading data from a file until you reach the end. You don't know how many lines the file contains, so you need a loop that keeps reading line by line until there are no more lines to read. In such a case, a \"While Loop\" is more appropriate because the number of iterations needed isn't known in advance—it depends on the file's content.\n",
        "\n",
        " Explanation of the Scenario:\n",
        "\n",
        " Start by initializing a variable to track the number of iterations or the current state (e.g., iteration_count = 0).\n",
        "Set a condition flag (e.g., condition_met = False) that will eventually change when the task is complete (like reaching the end of a file).\n",
        "Use a \"While Loop\" where the loop continues as long as the condition (condition_met) is not satisfied.\n",
        "Within the loop, perform necessary operations, such as reading data or performing computations.\n",
        "After each operation, update the condition or the counter. For example, increase the iteration count by 1 (iteration_count += 1).\n",
        "If at any point the condition for stopping the loop is fulfilled, such as reaching the required number of iterations or detecting the end of data, change the condition flag to break out of the loop (condition_met = True).\n",
        "By following these steps in the scenario described, you can effectively determine when a \"While Loop\" is more appropriate than a \"For Loop.\"\n",
        "\n",
        "\n"
      ],
      "metadata": {
        "id": "uorGVwIJIRuC"
      }
    },
    {
      "cell_type": "markdown",
      "source": [
        "#   Practical Q"
      ],
      "metadata": {
        "id": "fuU_sukULHT9"
      }
    },
    {
      "cell_type": "markdown",
      "source": [
        "1.  Write a Python program to print \"Hello, World!\n",
        "\n",
        "   "
      ],
      "metadata": {
        "id": "Y4HZdGIeLbek"
      }
    },
    {
      "cell_type": "code",
      "source": [
        "A= \"Hello, World!\"\n",
        "print(A)"
      ],
      "metadata": {
        "colab": {
          "base_uri": "https://localhost:8080/"
        },
        "id": "X04ETFrjL9Gx",
        "outputId": "9d7fefdc-969d-41ae-fe73-33773f71611f"
      },
      "execution_count": null,
      "outputs": [
        {
          "output_type": "stream",
          "name": "stdout",
          "text": [
            "Hello, World!\n"
          ]
        }
      ]
    },
    {
      "cell_type": "markdown",
      "source": [
        "2. Write a Python program that displays your name and age."
      ],
      "metadata": {
        "id": "zVLsDn3wMKbB"
      }
    },
    {
      "cell_type": "code",
      "source": [
        "name =  (\"AJAY\")\n",
        "age = int(27)\n",
        "print(name)\n",
        "print(age)\n",
        "\n",
        "\n",
        "\n",
        "\n"
      ],
      "metadata": {
        "colab": {
          "base_uri": "https://localhost:8080/"
        },
        "id": "mNlYBmsiMUhm",
        "outputId": "6fbf09e4-4209-48ef-a757-baeb58e26579"
      },
      "execution_count": null,
      "outputs": [
        {
          "output_type": "stream",
          "name": "stdout",
          "text": [
            "AJAY\n",
            "27\n"
          ]
        }
      ]
    },
    {
      "cell_type": "markdown",
      "source": [
        "3. Write code to print all the pre-defined keywords in Python using the keyword library."
      ],
      "metadata": {
        "id": "EcDH8IOUOpYQ"
      }
    },
    {
      "cell_type": "code",
      "source": [
        "import keyword\n",
        "\n",
        "# printing all keywords at once using \"kwlist()\"\n",
        "print(\"The list of keywords is : \")\n",
        "print(keyword.kwlist)"
      ],
      "metadata": {
        "colab": {
          "base_uri": "https://localhost:8080/"
        },
        "id": "2jBbF-QlP80b",
        "outputId": "70775b14-b9d3-4fd8-c1dc-3988ff1e2ef0"
      },
      "execution_count": null,
      "outputs": [
        {
          "output_type": "stream",
          "name": "stdout",
          "text": [
            "The list of keywords is : \n",
            "['False', 'None', 'True', 'and', 'as', 'assert', 'async', 'await', 'break', 'class', 'continue', 'def', 'del', 'elif', 'else', 'except', 'finally', 'for', 'from', 'global', 'if', 'import', 'in', 'is', 'lambda', 'nonlocal', 'not', 'or', 'pass', 'raise', 'return', 'try', 'while', 'with', 'yield']\n"
          ]
        }
      ]
    },
    {
      "cell_type": "markdown",
      "source": [
        "4. Write a program that checks if a given word is a Python keyword."
      ],
      "metadata": {
        "id": "C7vYuydlQIVn"
      }
    },
    {
      "cell_type": "code",
      "source": [
        "import keyword\n",
        "\n",
        "def check_python_keyword():\n",
        "    \"\"\"\n",
        "    Checks if a given word is a Python keyword.\n",
        "    \"\"\"\n",
        "    word = input(\"Enter a word to check: \")\n",
        "\n",
        "    if keyword.iskeyword(word):\n",
        "        print(f\"'{word}' is a Python keyword.\")\n",
        "    else:\n",
        "        print(f\"'{word}' is not a Python keyword.\")\n",
        "\n",
        "if __name__ == \"__main__\":\n",
        "    check_python_keyword()\n"
      ],
      "metadata": {
        "colab": {
          "base_uri": "https://localhost:8080/"
        },
        "id": "UeuoJvt4QOma",
        "outputId": "9ac64e6f-e706-4ee0-87a1-52b354d1a1bc"
      },
      "execution_count": null,
      "outputs": [
        {
          "output_type": "stream",
          "name": "stdout",
          "text": [
            "Enter a word to check: main\n",
            "'main' is not a Python keyword.\n"
          ]
        }
      ]
    },
    {
      "cell_type": "markdown",
      "source": [
        "5. Create a list and tuple in Python, and demonstrate how attempting to change an element works differently\n",
        "for each."
      ],
      "metadata": {
        "id": "6FvgXxuTRdEl"
      }
    },
    {
      "cell_type": "code",
      "source": [
        "# Create a list\n",
        "my_list = [10, 20, 30, 40]\n",
        "print(f\"Original list: {my_list}\")\n",
        "\n",
        "# Attempt to change an element in the list\n",
        "my_list[1] = 25\n",
        "print(f\"List after attempted change: {my_list}\")\n",
        "\n",
        "# Create a tuple\n",
        "my_tuple = (10, 20, 30, 40)\n",
        "print(f\"Original tuple: {my_tuple}\")\n",
        "\n",
        "# Attempt to change an element in the tuple\n",
        "try:\n",
        "    my_tuple[1] = 25\n",
        "except TypeError as e:\n",
        "    print(f\"Error attempting to change tuple element: {e}\")"
      ],
      "metadata": {
        "colab": {
          "base_uri": "https://localhost:8080/"
        },
        "id": "bADOUBgJR0pN",
        "outputId": "91e8ccc6-f4d5-4672-8fb5-cf275a89ff98"
      },
      "execution_count": null,
      "outputs": [
        {
          "output_type": "stream",
          "name": "stdout",
          "text": [
            "Original list: [10, 20, 30, 40]\n",
            "List after attempted change: [10, 25, 30, 40]\n",
            "Original tuple: (10, 20, 30, 40)\n",
            "Error attempting to change tuple element: 'tuple' object does not support item assignment\n"
          ]
        }
      ]
    },
    {
      "cell_type": "markdown",
      "source": [
        "6. Write a function to demonstrate the behavior of mutable and immutable arguments."
      ],
      "metadata": {
        "id": "e7SDdlxmR6eP"
      }
    },
    {
      "cell_type": "code",
      "source": [
        "def demonstrate_argument_behavior(immutable_arg, mutable_arg):\n",
        "    \"\"\"\n",
        "    Demonstrates the behavior of mutable and immutable arguments.\n",
        "\n",
        "    Args:\n",
        "        immutable_arg: An immutable object (e.g., int, str, tuple).\n",
        "        mutable_arg: A mutable object (e.g., list, dict).\n",
        "    \"\"\"\n",
        "\n",
        "    print(f\"Inside function - Initial immutable_arg: {immutable_arg}\")\n",
        "    print(f\"Inside function - Initial mutable_arg: {mutable_arg}\")\n",
        "\n",
        "    # Attempt to modify the immutable argument\n",
        "    immutable_arg += 1  # This creates a new integer object\n",
        "    print(f\"Inside function - Modified immutable_arg: {immutable_arg}\")\n",
        "\n",
        "    # Modify the mutable argument in-place\n",
        "    mutable_arg.append(\"new_item\")\n",
        "    print(f\"Inside function - Modified mutable_arg: {mutable_arg}\")\n",
        "\n",
        "# --- Demonstration ---\n",
        "\n",
        "# Immutable argument (integer)\n",
        "my_int = 10\n",
        "print(f\"Outside function - Original my_int: {my_int}\")\n",
        "\n",
        "# Mutable argument (list)\n",
        "my_list = [1, 2, 3]\n",
        "print(f\"Outside function - Original my_list: {my_list}\")\n",
        "\n",
        "print(\"\\n--- Calling the function ---\")\n",
        "demonstrate_argument_behavior(my_int, my_list)\n",
        "\n",
        "print(\"\\n--- After function call ---\")\n",
        "print(f\"Outside function - my_int after call: {my_int}\")\n",
        "print(f\"Outside function - my_list after call: {my_list}\")"
      ],
      "metadata": {
        "colab": {
          "base_uri": "https://localhost:8080/"
        },
        "id": "3Hi99CiWSrG0",
        "outputId": "13945b0c-9894-4742-9ab8-29109d8f3408"
      },
      "execution_count": null,
      "outputs": [
        {
          "output_type": "stream",
          "name": "stdout",
          "text": [
            "Outside function - Original my_int: 10\n",
            "Outside function - Original my_list: [1, 2, 3]\n",
            "\n",
            "--- Calling the function ---\n",
            "Inside function - Initial immutable_arg: 10\n",
            "Inside function - Initial mutable_arg: [1, 2, 3]\n",
            "Inside function - Modified immutable_arg: 11\n",
            "Inside function - Modified mutable_arg: [1, 2, 3, 'new_item']\n",
            "\n",
            "--- After function call ---\n",
            "Outside function - my_int after call: 10\n",
            "Outside function - my_list after call: [1, 2, 3, 'new_item']\n"
          ]
        }
      ]
    },
    {
      "cell_type": "markdown",
      "source": [
        "7.  Write a program that performs basic arithmetic operations on two user-input numbers."
      ],
      "metadata": {
        "id": "dH9C7aZISxi4"
      }
    },
    {
      "cell_type": "code",
      "source": [
        "A= int(255)\n",
        "n= int (55)\n",
        "\n",
        "print(A+n)\n",
        "print(A-n)\n",
        "print(A*n)"
      ],
      "metadata": {
        "colab": {
          "base_uri": "https://localhost:8080/"
        },
        "id": "UJA1iPprTZ1_",
        "outputId": "a03ea413-7e19-4b92-9bc7-9f81fc134f07"
      },
      "execution_count": null,
      "outputs": [
        {
          "output_type": "stream",
          "name": "stdout",
          "text": [
            "310\n",
            "200\n",
            "14025\n"
          ]
        }
      ]
    },
    {
      "cell_type": "markdown",
      "source": [
        "8.  Write a program to demonstrate the use of logical operators."
      ],
      "metadata": {
        "id": "p7Sn6LvKU8Hg"
      }
    },
    {
      "cell_type": "code",
      "source": [
        "a, b, c = True, False, True\n",
        "\n",
        "if a and c:\n",
        "    print(\"Both a and c are True (AND condition).\")\n",
        "\n",
        "# OR: At least one condition must be True\n",
        "if b or c:\n",
        "    print(\"Either b or c is True (OR condition).\")\n",
        "\n",
        "# NOT: Reverses the condition\n",
        "if not b:\n",
        "    print(\"b is False (NOT condition).\")"
      ],
      "metadata": {
        "colab": {
          "base_uri": "https://localhost:8080/"
        },
        "id": "hYktpITDSrwL",
        "outputId": "90d5c386-53c4-4ba2-c070-4bdacee3c028"
      },
      "execution_count": null,
      "outputs": [
        {
          "output_type": "stream",
          "name": "stdout",
          "text": [
            "Both a and c are True (AND condition).\n",
            "Either b or c is True (OR condition).\n",
            "b is False (NOT condition).\n"
          ]
        }
      ]
    },
    {
      "cell_type": "code",
      "source": [],
      "metadata": {
        "id": "RvGCCl3QS3Hf"
      },
      "execution_count": null,
      "outputs": []
    },
    {
      "cell_type": "markdown",
      "source": [
        "9.Write a Python program to convert user input from string to integer, float, and boolean types.\n",
        "\n"
      ],
      "metadata": {
        "id": "608YhoZMV54O"
      }
    },
    {
      "cell_type": "code",
      "source": [
        "s = \"42\"\n",
        "num = int(s)\n",
        "print(num)\n",
        "\n",
        "# Binary string\n",
        "s = \"1010\"\n",
        "num = int(s, 2)\n",
        "print(num)\n"
      ],
      "metadata": {
        "colab": {
          "base_uri": "https://localhost:8080/"
        },
        "id": "Xp1NZSRWV_A0",
        "outputId": "77f497a7-09cd-4c6f-a2dd-00e0c20019b3"
      },
      "execution_count": null,
      "outputs": [
        {
          "output_type": "stream",
          "name": "stdout",
          "text": [
            "42\n",
            "10\n"
          ]
        }
      ]
    },
    {
      "cell_type": "markdown",
      "source": [
        "10. Write code to demonstrate type casting with list elements.\n"
      ],
      "metadata": {
        "id": "ndbVmCvMXCrd"
      }
    },
    {
      "cell_type": "code",
      "source": [
        "# Original list with mixed data types\n",
        "original_list = [\"10\", 20, \"30.5\", 40.0, \"50\"]\n",
        "\n",
        "# Type casting elements to integers\n",
        "# Using a list comprehension for conciseness\n",
        "int_list = [int(float(item)) if isinstance(item, str) and '.' in item else int(item) for item in original_list]\n",
        "print(f\"List after casting to int: {int_list}\")\n",
        "\n",
        "# Type casting elements to floats\n",
        "float_list = [float(item) for item in original_list]\n",
        "print(f\"List after casting to float: {float_list}\")\n",
        "\n",
        "# Type casting elements to strings\n",
        "string_list = [str(item) for item in original_list]\n",
        "print(f\"List after casting to string: {string_list}\")"
      ],
      "metadata": {
        "colab": {
          "base_uri": "https://localhost:8080/"
        },
        "id": "cKiOrBzDXI7z",
        "outputId": "6cedead1-f451-4abb-82af-b8711220dd2e"
      },
      "execution_count": null,
      "outputs": [
        {
          "output_type": "stream",
          "name": "stdout",
          "text": [
            "List after casting to int: [10, 20, 30, 40, 50]\n",
            "List after casting to float: [10.0, 20.0, 30.5, 40.0, 50.0]\n",
            "List after casting to string: ['10', '20', '30.5', '40.0', '50']\n"
          ]
        }
      ]
    },
    {
      "cell_type": "code",
      "source": [],
      "metadata": {
        "id": "0hnGT9rrWVTF"
      },
      "execution_count": null,
      "outputs": []
    }
  ]
}